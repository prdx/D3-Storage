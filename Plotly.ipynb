{
 "cells": [
  {
   "cell_type": "markdown",
   "metadata": {},
   "source": [
    "# Anak Agung Ngurah Bagus Trihatmaja - DS5500\n",
    "\n",
    "Reference: https://plot.ly/python/candlestick-charts/, https://plot.ly/python/dropdowns/"
   ]
  },
  {
   "cell_type": "code",
   "execution_count": 46,
   "metadata": {},
   "outputs": [
    {
     "data": {
      "text/html": [
       "<script type=\"text/javascript\">window.PlotlyConfig = {MathJaxConfig: 'local'};</script><script type=\"text/javascript\">if (window.MathJax) {MathJax.Hub.Config({SVG: {font: \"STIX-Web\"}});}</script><script>requirejs.config({paths: { 'plotly': ['https://cdn.plot.ly/plotly-latest.min']},});if(!window._Plotly) {require(['plotly'],function(plotly) {window._Plotly=plotly;});}</script>"
      ],
      "text/vnd.plotly.v1+html": [
       "<script type=\"text/javascript\">window.PlotlyConfig = {MathJaxConfig: 'local'};</script><script type=\"text/javascript\">if (window.MathJax) {MathJax.Hub.Config({SVG: {font: \"STIX-Web\"}});}</script><script>requirejs.config({paths: { 'plotly': ['https://cdn.plot.ly/plotly-latest.min']},});if(!window._Plotly) {require(['plotly'],function(plotly) {window._Plotly=plotly;});}</script>"
      ]
     },
     "metadata": {},
     "output_type": "display_data"
    }
   ],
   "source": [
    "import pandas as pd\n",
    "import plotly\n",
    "import plotly.plotly as py\n",
    "import plotly.graph_objs as go\n",
    "\n",
    "\n",
    "plotly.offline.init_notebook_mode(connected=True)"
   ]
  },
  {
   "cell_type": "code",
   "execution_count": 11,
   "metadata": {},
   "outputs": [],
   "source": [
    "df = pd.read_csv(\"./prices.csv\")"
   ]
  },
  {
   "cell_type": "markdown",
   "metadata": {},
   "source": [
    "> Label the 7 columns in the dataset as key or value columns (see Munzner 2.6). Include this write-up in a markup cell. Write a couple of sentences justifying your choice.\n",
    "\n",
    "According to the book key must be unique. That case we don't have key (all are value colums). The only thing we can use as a key is the index of each row, or if we only use one company then date can be the key.\n"
   ]
  },
  {
   "cell_type": "markdown",
   "metadata": {},
   "source": [
    "> Come up with a task a user might be interested in performing with this dataset. (Refer to task abstraction from Visual Encoding lecture slides.) Write it in markup. \n",
    "\n",
    "In this assignment, we come up with a task where the user wants to discover (action) a trend (target) for a specific company, say IBM. To make the discovering process easier, the user also needs to able to locate the prices for a certain date and could potentially use the fragment of the plot as an extra information. Both we will be annotated on the plot. Also, as it is about stock, user should be able to get the information such as close, open, high and low price."
   ]
  },
  {
   "cell_type": "markdown",
   "metadata": {},
   "source": [
    "> Choose two different, reasonable ways to encode the data that allow a user to perform the task you specified in step 5. Focus more on the lecture slides on Marks & Channels, and on Visual Encodings than making an interactive visualization in this step.\n",
    "\n",
    "First let's see what datatype we have: we have a categorical data for the company, since we only show one company for this assignment, we can ignore this. And the rest are the numerical. We can consider the date here as ordinal. Since we don't have any calculation to the date field. The rest of the fields are numerical. Thus we can use the date on x axis. Therefore we will use a line chart and  OHLC chart.\n"
   ]
  },
  {
   "cell_type": "code",
   "execution_count": 13,
   "metadata": {},
   "outputs": [],
   "source": [
    "df = df[df[\"symbol\"] == \"IBM\"]"
   ]
  },
  {
   "cell_type": "code",
   "execution_count": 53,
   "metadata": {
    "scrolled": true
   },
   "outputs": [
    {
     "data": {
      "text/html": [
       "<iframe id=\"igraph\" scrolling=\"no\" style=\"border:none;\" seamless=\"seamless\" src=\"https://plot.ly/~prdx/36.embed\" height=\"525px\" width=\"100%\"></iframe>"
      ],
      "text/plain": [
       "<plotly.tools.PlotlyDisplay object>"
      ]
     },
     "execution_count": 53,
     "metadata": {},
     "output_type": "execute_result"
    }
   ],
   "source": [
    "trace_high = go.Scatter(x=list(df.date),\n",
    "                        y=list(df.high),\n",
    "                        name='High',\n",
    "                        line=dict(color='#33CFA5'))\n",
    "\n",
    "trace_open =go.Scatter(x=list(df.date),\n",
    "                        y=list(df.open),\n",
    "                        name='High',\n",
    "                        line=dict(color='#33CFB8'))\n",
    "\n",
    "trace_low = go.Scatter(x=list(df.date),\n",
    "                       y=list(df.low),\n",
    "                       name='Low',\n",
    "                       line=dict(color='#F06A6A'))\n",
    "\n",
    "trace_close =go.Scatter(x=list(df.date),\n",
    "                        y=list(df.close),\n",
    "                        name='High',\n",
    "                        line=dict(color='#F3CFB8'))\n",
    "\n",
    "data = [trace_high, trace_low, trace_open, trace_close]\n",
    "\n",
    "layout = dict(title='IBM', showlegend=False, shapes=[{\n",
    "        'x0': '2010-09-01', 'x1': '2013-03-01',\n",
    "        'y0': 0, 'y1': 1, 'xref': 'x', 'yref': 'paper',\n",
    "        'line': {'color': 'rgb(30,30,30)', 'width': 1}\n",
    "    }], annotations=[{\n",
    "        'x': '2010-10-01', 'y': 0.05, 'xref': 'x', 'yref': 'paper',\n",
    "        'showarrow': False, 'xanchor': 'left',\n",
    "        'text': 'Increase Period'\n",
    "    }])\n",
    "\n",
    "fig = dict(data=data,\n",
    "           layout=layout)\n",
    "py.iplot(fig)"
   ]
  },
  {
   "cell_type": "markdown",
   "metadata": {},
   "source": [
    "Now as we only use one company, the date will be the key, thus we can use Line chart as a visual encoding. This also relate to our task where we want to show a trend. In this line chart a line will be the marker and the position will be the channel. Another marker will be a text. A text is used to annotate the price or to explain the use about a specific events. On the line chart, if we want to show multiple trends then we use color as a channel as well.\n",
    "We choose mouse hover as the interactivity to support the annotate task. Showing the annotation immediately will clutter the charts, thus it makes sense to make the interactivity as a mouse hover event."
   ]
  },
  {
   "cell_type": "code",
   "execution_count": 45,
   "metadata": {},
   "outputs": [
    {
     "data": {
      "text/html": [
       "<iframe id=\"igraph\" scrolling=\"no\" style=\"border:none;\" seamless=\"seamless\" src=\"https://plot.ly/~prdx/26.embed\" height=\"525px\" width=\"100%\"></iframe>"
      ],
      "text/plain": [
       "<plotly.tools.PlotlyDisplay object>"
      ]
     },
     "execution_count": 45,
     "metadata": {},
     "output_type": "execute_result"
    }
   ],
   "source": [
    "trace = go.Ohlc(x=df['date'],\n",
    "                open=df['open'],\n",
    "                high=df['high'],\n",
    "                low=df['low'],\n",
    "                close=df['close'])\n",
    "data = [trace]\n",
    "layout = {\n",
    "    'title': 'IBM',\n",
    "    'yaxis': {'title': 'IBM Stock'},\n",
    "    'shapes': [{\n",
    "        'x0': '2010-09-01', 'x1': '2013-03-01',\n",
    "        'y0': 0, 'y1': 1, 'xref': 'x', 'yref': 'paper',\n",
    "        'line': {'color': 'rgb(30,30,30)', 'width': 1}\n",
    "    }],\n",
    "    'annotations': [{\n",
    "        'x': '2010-10-01', 'y': 0.05, 'xref': 'x', 'yref': 'paper',\n",
    "        'showarrow': False, 'xanchor': 'left',\n",
    "        'text': 'Increase Period'\n",
    "    }]\n",
    "}\n",
    "fig = dict(data=data, layout=layout)\n",
    "py.iplot(fig, filename='recession-candlestick')"
   ]
  },
  {
   "cell_type": "markdown",
   "metadata": {},
   "source": [
    "\n",
    "For this chart, we will still use mostly same markers and position. The difference is we also want to show more information by using the same channel, position with addition of length to discover the volatility. The color channels - either black or red - is to indicate of a higher or lower trend and provides insights at a glance (discover task). A good thing about this chart is it allows you to search or reproduce by moving the slider as part of interactivity other than annotation when you hover the mouse.\n",
    "\n",
    "Compared to the line chart, it encodes the information neatly. As you can see we need to add another marker and color channel for the line chart to show all close, open, low, and high."
   ]
  },
  {
   "cell_type": "markdown",
   "metadata": {},
   "source": [
    "------------------------------------------------------------------------"
   ]
  },
  {
   "cell_type": "code",
   "execution_count": null,
   "metadata": {},
   "outputs": [],
   "source": []
  }
 ],
 "metadata": {
  "kernelspec": {
   "display_name": "Python 3",
   "language": "python",
   "name": "python3"
  },
  "language_info": {
   "codemirror_mode": {
    "name": "ipython",
    "version": 3
   },
   "file_extension": ".py",
   "mimetype": "text/x-python",
   "name": "python",
   "nbconvert_exporter": "python",
   "pygments_lexer": "ipython3",
   "version": "3.7.2"
  }
 },
 "nbformat": 4,
 "nbformat_minor": 2
}
